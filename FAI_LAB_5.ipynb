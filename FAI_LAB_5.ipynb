{
 "cells": [
  {
   "cell_type": "code",
   "execution_count": 1,
   "id": "a3b84de9-5c0b-4e95-9b89-4f1dddcc2ea2",
   "metadata": {},
   "outputs": [
    {
     "name": "stdout",
     "output_type": "stream",
     "text": [
      "BFS Traversal of Tree:  ['A', 'B', 'C', 'D', 'E', 'F', 'G', 'H', 'I', 'J', 'K', 'L', 'M', 'N']\n"
     ]
    }
   ],
   "source": [
    "# LAB 05 BFS using Tree\n",
    " \n",
    "from collections import deque\n",
    " \n",
    "class TreeNode:\n",
    "    def __init__(self, value):\n",
    "        self.value = value\n",
    "        self.children = []\n",
    " \n",
    "def bfs_tree(root):\n",
    "    if not root:\n",
    "        return []\n",
    " \n",
    "    queue = deque([root])\n",
    "    bfs_order = []\n",
    " \n",
    "    while queue:\n",
    "        current_node = queue.popleft()\n",
    "        bfs_order.append(current_node.value)\n",
    " \n",
    "        for child in current_node.children:\n",
    "            queue.append(child)\n",
    " \n",
    "    return bfs_order\n",
    " \n",
    "if __name__ == \"__main__\":\n",
    "    # Tree\n",
    "    # Root\n",
    "    root = TreeNode('A')\n",
    "    # Level 1\n",
    "    root.children = [TreeNode('B'), TreeNode('C'), TreeNode('D')]\n",
    "    # Level 2\n",
    "    root.children[0].children = [TreeNode('E'), TreeNode('F')]\n",
    "    root.children[1].children = [TreeNode('G'), TreeNode('H')]\n",
    "    root.children[2].children = [TreeNode('I')]\n",
    "    # Level 3\n",
    "    root.children[0].children[0].children = [TreeNode('J'), TreeNode('K')]\n",
    "    root.children[0].children[1].children = [TreeNode('L')]\n",
    "    root.children[2].children[0].children = [TreeNode('M')]\n",
    "    # Level 4\n",
    "    root.children[0].children[0].children[1].children = [TreeNode('N')]\n",
    " \n",
    "    # Perform BFS\n",
    "    print(\"BFS Traversal of Tree: \", bfs_tree(root))S"
   ]
  },
  {
   "cell_type": "code",
   "execution_count": null,
   "id": "2db0d665-5915-4cd6-b014-c535a80ff1b8",
   "metadata": {},
   "outputs": [],
   "source": []
  },
  {
   "cell_type": "code",
   "execution_count": 3,
   "id": "e502f7d8-a72e-4af9-8fe3-d0898626ebf9",
   "metadata": {},
   "outputs": [
    {
     "data": {
      "text/plain": [
       "['A', 'D', 'C', 'B', 'I', 'H', 'G', 'E', 'F', 'M', 'J', 'K', 'L', 'N']"
      ]
     },
     "execution_count": 3,
     "metadata": {},
     "output_type": "execute_result"
    }
   ],
   "source": [
    "# Lab 05 BFS using Graphs\n",
    " \n",
    "from collections import deque\n",
    " \n",
    "#import collections\n",
    " \n",
    "# help(deque)\n",
    " \n",
    "def bfs(graph, start_node):\n",
    "    visited = set()\n",
    "    queue = deque([start_node])\n",
    "    bfs_order = []\n",
    "   \n",
    "    while queue:\n",
    "        current_node = queue.popleft()\n",
    "        # print(current_node)\n",
    "        # print(queue)\n",
    "        # print(bfs_order)\n",
    "       \n",
    "        if current_node not in visited:\n",
    "            visited.add(current_node)\n",
    "            bfs_order.append(current_node)\n",
    " \n",
    "            for neighbor in graph[current_node]:\n",
    "                if neighbor not in visited:\n",
    "                    queue.append(neighbor)\n",
    "    return bfs_order\n",
    " \n",
    "if __name__ == \"__main__\":\n",
    "    graph = {\n",
    "        'A': {'B', 'C', 'D'},\n",
    "        'B': {'A', 'E', 'F'},\n",
    "        'C': {'A', 'G','H'},\n",
    "        'D': {'A', 'I'},\n",
    "        'E': {'B', 'J', 'K'},\n",
    "        'F': {'B', 'L'},\n",
    "        'G': {'C'},\n",
    "        'H': {'C'},\n",
    "        'I': {'D', 'M'},\n",
    "        'J': {'E'},\n",
    "        'K': {'E', 'N'},\n",
    "        'L': {'F'},\n",
    "        'M': {'I'},\n",
    "        'N': {'K'}\n",
    "    }\n",
    " \n",
    "bfs(graph, 'A')"
   ]
  },
  {
   "cell_type": "code",
   "execution_count": null,
   "id": "67b13d2e-0208-4f58-ac5c-6a21d105efa6",
   "metadata": {},
   "outputs": [],
   "source": []
  }
 ],
 "metadata": {
  "kernelspec": {
   "display_name": "Python [conda env:base] *",
   "language": "python",
   "name": "conda-base-py"
  },
  "language_info": {
   "codemirror_mode": {
    "name": "ipython",
    "version": 3
   },
   "file_extension": ".py",
   "mimetype": "text/x-python",
   "name": "python",
   "nbconvert_exporter": "python",
   "pygments_lexer": "ipython3",
   "version": "3.12.7"
  }
 },
 "nbformat": 4,
 "nbformat_minor": 5
}
