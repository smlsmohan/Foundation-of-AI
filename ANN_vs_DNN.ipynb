{
 "cells": [
  {
   "cell_type": "code",
   "execution_count": 1,
   "id": "51835405-a379-4642-8a89-85ddb9722150",
   "metadata": {},
   "outputs": [
    {
     "name": "stdout",
     "output_type": "stream",
     "text": [
      "Columns in dataset: Index(['customerID', 'gender', 'SeniorCitizen', 'Partner', 'Dependents',\n",
      "       'tenure', 'PhoneService', 'MultipleLines', 'InternetService',\n",
      "       'OnlineSecurity', 'OnlineBackup', 'DeviceProtection', 'TechSupport',\n",
      "       'StreamingTV', 'StreamingMovies', 'Contract', 'PaperlessBilling',\n",
      "       'PaymentMethod', 'MonthlyCharges', 'TotalCharges', 'Churn'],\n",
      "      dtype='object')\n"
     ]
    }
   ],
   "source": [
    "import pandas as pd\n",
    "import numpy as np\n",
    "from sklearn.model_selection import train_test_split\n",
    "from sklearn.preprocessing import StandardScaler, LabelEncoder\n",
    "from tensorflow.keras.models import Sequential\n",
    "from tensorflow.keras.layers import Dense, Input\n",
    "\n",
    "\n",
    "#Local path to the Dataset\n",
    "file_path = r\"C:\\Users\\HP\\Downloads\\Foundations of AI\\telco_customer_churn.csv\"\n",
    "\n",
    "# Load dataset\n",
    "try:\n",
    "    data = pd.read_csv(file_path)\n",
    "except FileNotFoundError:\n",
    "    print(\"Dataset file not found. Please check the file path.\")\n",
    "    exit()\n",
    "\n",
    "# Inspect Columns\n",
    "print(\"Columns in dataset:\", data.columns)"
   ]
  },
  {
   "cell_type": "code",
   "execution_count": 3,
   "id": "5a425c38-6242-4678-adcd-cdc822bc9ebb",
   "metadata": {},
   "outputs": [],
   "source": [
    "# Preprocessing\n",
    "if 'customerID' in data.columns:\n",
    "    data = data.drop(columns=['customerID'])"
   ]
  },
  {
   "cell_type": "code",
   "execution_count": 5,
   "id": "169c283c-78af-4108-8714-8501a41ca151",
   "metadata": {},
   "outputs": [
    {
     "name": "stdout",
     "output_type": "stream",
     "text": [
      "ANN Test Accuracy: 0.8013\n"
     ]
    }
   ],
   "source": [
    "# Verify column presence\n",
    "if 'TotalCharges' not in data.columns:\n",
    "    print(\"Dataset is missing the 'TotalCharges' column. Exiting.\")\n",
    "    exit()\n",
    "\n",
    "data['TotalCharges'] = pd.to_numeric(data['TotalCharges'], errors='coerce')\n",
    "data['TotalCharges'] = data['TotalCharges'].fillna(data['TotalCharges'].mean())\n",
    "\n",
    "label_enc = LabelEncoder()\n",
    "data['Churn'] = label_enc.fit_transform(data['Churn'])\n",
    "\n",
    "x = data.drop(columns=['Churn'])\n",
    "x = pd.get_dummies(x, drop_first=True)\n",
    "y = data['Churn']\n",
    "\n",
    "x_train, x_test, y_train, y_test = train_test_split(x,y, test_size=0.2, random_state=42)\n",
    "\n",
    "# Scaling features\n",
    "scaler = StandardScaler()\n",
    "x_train = scaler.fit_transform(x_train)\n",
    "x_test = scaler.transform(x_test)\n",
    "\n",
    "# ANN Model\n",
    "ann_model = Sequential([\n",
    "    Input(shape=(x_train.shape[1],)), \n",
    "    Dense(16, activation='relu'),\n",
    "    Dense(1, activation='sigmoid')  \n",
    "])\n",
    "\n",
    "ann_model.compile(optimizer='adam', loss='binary_crossentropy', metrics=['accuracy']),\n",
    "\n",
    "#Train ANN\n",
    "ann_history = ann_model.fit(x_train, y_train, validation_split=0.2, epochs=50, batch_size= 12, verbose=0)\n",
    "\n",
    "# Evaluate ANN\n",
    "Ann_history, ann_accuracy = ann_model.evaluate(x_test, y_test, verbose=0)\n",
    "print(f\"ANN Test Accuracy: {ann_accuracy:.4f}\")\n"
   ]
  },
  {
   "cell_type": "code",
   "execution_count": 13,
   "id": "c423b891-0062-40e3-ae31-62a78a5090e8",
   "metadata": {},
   "outputs": [
    {
     "name": "stdout",
     "output_type": "stream",
     "text": [
      "Columns in dataset: Index(['customerID', 'gender', 'SeniorCitizen', 'Partner', 'Dependents',\n",
      "       'tenure', 'PhoneService', 'MultipleLines', 'InternetService',\n",
      "       'OnlineSecurity', 'OnlineBackup', 'DeviceProtection', 'TechSupport',\n",
      "       'StreamingTV', 'StreamingMovies', 'Contract', 'PaperlessBilling',\n",
      "       'PaymentMethod', 'MonthlyCharges', 'TotalCharges', 'Churn'],\n",
      "      dtype='object')\n"
     ]
    }
   ],
   "source": [
    "import pandas as pd\n",
    "import numpy as np\n",
    "from sklearn.model_selection import train_test_split\n",
    "from sklearn.preprocessing import StandardScaler, LabelEncoder\n",
    "from tensorflow.keras.models import Sequential\n",
    "from tensorflow.keras.layers import Dense, Input, Dropout\n",
    "\n",
    "\n",
    "\n",
    "#Local path to the Dataset\n",
    "file_path = r\"C:\\Users\\HP\\Downloads\\Foundations of AI\\telco_customer_churn.csv\"\n",
    "\n",
    "# Load dataset\n",
    "try:\n",
    "    data = pd.read_csv(file_path)\n",
    "except FileNotFoundError:\n",
    "    print(\"Dataset file not found. Please check the file path.\")\n",
    "    exit()\n",
    "\n",
    "# Inspect Columns\n",
    "print(\"Columns in dataset:\", data.columns)\n",
    "\n",
    "# Preprocessing\n",
    "if 'customerID' in data.columns:\n",
    "    data = data.drop(columns=['customerID'])"
   ]
  },
  {
   "cell_type": "code",
   "execution_count": 17,
   "id": "367727fd-723a-43bb-ad51-ef8453ce57b5",
   "metadata": {},
   "outputs": [
    {
     "name": "stdout",
     "output_type": "stream",
     "text": [
      "DNN Test Accuracy: 0.8084\n"
     ]
    }
   ],
   "source": [
    "# Verify column presence\n",
    "if 'TotalCharges' not in data.columns:\n",
    "    print(\"Dataset is missing the 'TotalCharges' column. Exiting.\")\n",
    "    exit()\n",
    "\n",
    "data['TotalCharges'] = pd.to_numeric(data['TotalCharges'], errors='coerce')\n",
    "data['TotalCharges'] = data['TotalCharges'].fillna(data['TotalCharges'].mean())\n",
    "\n",
    "label_enc = LabelEncoder()\n",
    "data['Churn'] = label_enc.fit_transform(data['Churn'])\n",
    "\n",
    "x = data.drop(columns=['Churn'])\n",
    "x = pd.get_dummies(x, drop_first=True)\n",
    "y = data['Churn']\n",
    "\n",
    "x_train, x_test, y_train, y_test = train_test_split(x,y, test_size=0.2, random_state=42)\n",
    "\n",
    "# Scaling features\n",
    "scaler = StandardScaler()\n",
    "x_train = scaler.fit_transform(x_train)\n",
    "x_test = scaler.transform(x_test)\n",
    "\n",
    "#DNN Model\n",
    "dnn_model = Sequential([ \n",
    "        Input(shape=(x_train.shape[1],)), \n",
    "    Dense (64, activation = 'relu'),\n",
    "    Dropout(0.3),\n",
    "    Dense (32, activation = 'relu'),\n",
    "    Dropout(0.3), \n",
    "    Dense(16, activation = 'relu'),\n",
    "    Dense(1, activation= 'sigmoid')\n",
    "])\n",
    "\n",
    "dnn_model.compile(optimizer='adam', loss='binary_crossentropy', metrics=['accuracy'])\n",
    "\n",
    "#Train DNN\n",
    "dnn_history = dnn_model.fit(x_train, y_train, validation_split=0.2, epochs=50, batch_size=32, verbose=0)\n",
    "\n",
    "#Evaluate DNN\n",
    "dnn_loss, dnn_accuracy = dnn_model.evaluate(x_test, y_test, verbose=0) \n",
    "print(f\"DNN Test Accuracy: {dnn_accuracy:.4f}\")"
   ]
  },
  {
   "cell_type": "code",
   "execution_count": null,
   "id": "add29584-ded5-43a7-94ca-ba495a50668f",
   "metadata": {},
   "outputs": [],
   "source": []
  }
 ],
 "metadata": {
  "kernelspec": {
   "display_name": "Python [conda env:base] *",
   "language": "python",
   "name": "conda-base-py"
  },
  "language_info": {
   "codemirror_mode": {
    "name": "ipython",
    "version": 3
   },
   "file_extension": ".py",
   "mimetype": "text/x-python",
   "name": "python",
   "nbconvert_exporter": "python",
   "pygments_lexer": "ipython3",
   "version": "3.12.7"
  }
 },
 "nbformat": 4,
 "nbformat_minor": 5
}
