{
 "cells": [
  {
   "cell_type": "code",
   "execution_count": 1,
   "id": "737b890f-e719-47c8-a9e2-d1c268393f23",
   "metadata": {},
   "outputs": [
    {
     "name": "stdout",
     "output_type": "stream",
     "text": [
      "Maximum value in the tree: 40\n"
     ]
    }
   ],
   "source": [
    "class TreeNode: \n",
    "    def __init__(self, value): \n",
    "        self.value = value \n",
    "        self.children = [] \n",
    "\n",
    "    def add_child(self, child):  \n",
    "        self.children.append(child) \n",
    "        \n",
    "\n",
    "def find_max_value(root): \n",
    "    if root is None: \n",
    "        return float('-inf')  # Return negative infinity for empty nodes \n",
    "\n",
    "     \n",
    "\n",
    "    max_value = root.value  # Start with the root value \n",
    "    for child in root.children: \n",
    "        max_value = max(max_value, find_max_value(child))  # Recursively find max in children \n",
    "\n",
    "    return max_value \n",
    "\n",
    " \n",
    "\n",
    "# Example usage \n",
    "\n",
    "# Creating the tree \n",
    "root = TreeNode(10) \n",
    "child2 = TreeNode(20) \n",
    "child3 = TreeNode(5) \n",
    "child4 = TreeNode(40) \n",
    "child5 = TreeNode(15) \n",
    "\n",
    "root.add_child(child2) \n",
    "root.add_child(child3) \n",
    "child2.add_child(child4) \n",
    "child3.add_child(child5) \n",
    "\n",
    "# Finding the maximum value \n",
    "max_value = find_max_value(root) \n",
    "print(\"Maximum value in the tree:\", max_value) "
   ]
  },
  {
   "cell_type": "code",
   "execution_count": null,
   "id": "55ff19c8-f52b-4eb7-a282-04a728f226e5",
   "metadata": {},
   "outputs": [],
   "source": []
  }
 ],
 "metadata": {
  "kernelspec": {
   "display_name": "Python [conda env:base] *",
   "language": "python",
   "name": "conda-base-py"
  },
  "language_info": {
   "codemirror_mode": {
    "name": "ipython",
    "version": 3
   },
   "file_extension": ".py",
   "mimetype": "text/x-python",
   "name": "python",
   "nbconvert_exporter": "python",
   "pygments_lexer": "ipython3",
   "version": "3.12.7"
  }
 },
 "nbformat": 4,
 "nbformat_minor": 5
}
