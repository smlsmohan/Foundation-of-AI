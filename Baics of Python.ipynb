{
 "cells": [
  {
   "cell_type": "code",
   "execution_count": 1,
   "id": "d6f62cd9-41eb-43fe-9937-9154c2a6c19c",
   "metadata": {},
   "outputs": [
    {
     "name": "stdin",
     "output_type": "stream",
     "text": [
      "Enter a Number  2\n"
     ]
    },
    {
     "name": "stdout",
     "output_type": "stream",
     "text": [
      "Even Number \n"
     ]
    }
   ],
   "source": [
    "a = int(input(\"Enter a Number: \"))\n",
    "if a % 2 == 0:\n",
    "    print(\"Even Number\")\n",
    "else:\n",
    "    print(\"Odd Number\")\n",
    "    "
   ]
  },
  {
   "cell_type": "code",
   "execution_count": 7,
   "id": "7b2b94f3-563d-4436-a720-2d8aed683937",
   "metadata": {},
   "outputs": [
    {
     "name": "stdin",
     "output_type": "stream",
     "text": [
      "Enter a string:  divid\n"
     ]
    },
    {
     "name": "stdout",
     "output_type": "stream",
     "text": [
      "'divid' is a Palindrome.\n"
     ]
    }
   ],
   "source": [
    "s = input(\"Enter a string: \")\n",
    "if s == s[::-1]:\n",
    "    print(f\"'{s}' is a Palindrome.\")\n",
    "else:\n",
    "    print(f\"'{s}' is not a Palindrome.\")\n"
   ]
  },
  {
   "cell_type": "code",
   "execution_count": 9,
   "id": "7d581d66-c0fe-40b4-896b-9d4fee5a4607",
   "metadata": {},
   "outputs": [
    {
     "name": "stdout",
     "output_type": "stream",
     "text": [
      "New list with first and last elements: [10, 23]\n"
     ]
    }
   ],
   "source": [
    "a = [10, 25, 9, 23]\n",
    "new_list = [a[0], a[-1]]\n",
    "print(f\"New list with first and last elements: {new_list}\")\n"
   ]
  },
  {
   "cell_type": "code",
   "execution_count": 11,
   "id": "e2ef6e67-d8f1-4061-a07d-a6aad18cba50",
   "metadata": {},
   "outputs": [
    {
     "name": "stdin",
     "output_type": "stream",
     "text": [
      "Enter a number to check if it's in the list:  8\n"
     ]
    },
    {
     "name": "stdout",
     "output_type": "stream",
     "text": [
      "8 is not in the list.\n"
     ]
    }
   ],
   "source": [
    "def is_number_in_list(num, lst):\n",
    "    return num in lst\n",
    "\n",
    "a = [10, 25, 9, 23]\n",
    "num = int(input(\"Enter a number to check if it's in the list: \"))\n",
    "if is_number_in_list(num, a):\n",
    "    print(f\"{num} is in the list.\")\n",
    "else:\n",
    "    print(f\"{num} is not in the list.\")\n"
   ]
  },
  {
   "cell_type": "code",
   "execution_count": 13,
   "id": "c9487884-8cb4-4c32-a299-40deb4f79735",
   "metadata": {},
   "outputs": [
    {
     "name": "stdout",
     "output_type": "stream",
     "text": [
      "The square of 11 is 121.\n",
      "The square of 13 is 169.\n",
      "The square of 101 is 10201.\n"
     ]
    }
   ],
   "source": [
    "def is_prime(n):\n",
    "    if n < 2:\n",
    "        return False\n",
    "    for i in range(2, int(n ** 0.5) + 1):\n",
    "        if n % i == 0:\n",
    "            return False\n",
    "    return True\n",
    "\n",
    "a = [8, 9, 10, 11, 13, 81, 101, 100, 94]\n",
    "for num in a:\n",
    "    if is_prime(num):\n",
    "        print(f\"The square of {num} is {num ** 2}.\")\n",
    "    else:\n",
    "        continue\n"
   ]
  },
  {
   "cell_type": "code",
   "execution_count": null,
   "id": "a817bca2-7231-4f9c-b0d2-c871dff8a86d",
   "metadata": {},
   "outputs": [],
   "source": []
  }
 ],
 "metadata": {
  "kernelspec": {
   "display_name": "Python [conda env:base] *",
   "language": "python",
   "name": "conda-base-py"
  },
  "language_info": {
   "codemirror_mode": {
    "name": "ipython",
    "version": 3
   },
   "file_extension": ".py",
   "mimetype": "text/x-python",
   "name": "python",
   "nbconvert_exporter": "python",
   "pygments_lexer": "ipython3",
   "version": "3.12.7"
  }
 },
 "nbformat": 4,
 "nbformat_minor": 5
}
